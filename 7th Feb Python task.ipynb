{
 "cells": [
  {
   "cell_type": "markdown",
   "id": "2692e379-8055-4dd4-8d50-1025d2176ead",
   "metadata": {},
   "source": [
    "#### Q1. You are writing code for a company. The requirement of the company is that you create a pythonfunction that will check whether the password entered by the user is correct or not. The function should take the password as input and return the string “Valid Password” if the entered password follows the below-given password guidelines else it should return “Invalid Password”.\n",
    "Note: \n",
    "1. The Password should contain at least two uppercase letters and at least two lowercase letters.\n",
    "2. The Password should contain at least a number and three special characters.\n",
    "3. The length of the password should be 10 characters long."
   ]
  },
  {
   "cell_type": "code",
   "execution_count": 3,
   "id": "8130919c-d62c-49bc-bda1-336870c041cd",
   "metadata": {},
   "outputs": [
    {
     "name": "stdin",
     "output_type": "stream",
     "text": [
      "Enter your password Pavan@2810\n"
     ]
    },
    {
     "name": "stdout",
     "output_type": "stream",
     "text": [
      "Valid Password\n"
     ]
    }
   ],
   "source": [
    "l, u, p, d = 0, 0, 0, 0\n",
    "s = (input(\"Enter your password\"))\n",
    "if (len(s) >= 10):\n",
    "\tfor i in s:\n",
    "\n",
    "\t\t# counting lowercase alphabets\n",
    "\t\tif (i.islower()):\n",
    "\t\t\tl+=1\t\t\n",
    "\n",
    "\t\t# counting uppercase alphabets\n",
    "\t\tif (i.isupper()):\n",
    "\t\t\tu+=1\t\t\n",
    "\n",
    "\t\t# counting digits\n",
    "\t\tif (i.isdigit()):\n",
    "\t\t\td+=1\t\t\n",
    "\n",
    "\t\t# counting the mentioned special characters\n",
    "\t\tif(i=='@'or i=='$' or i=='_'):\n",
    "\t\t\tp+=1\t\t\n",
    "if (l>=1 and u>=1 and p>=1 and d>=1 and l+p+u+d==len(s)):\n",
    "\tprint(\"Valid Password\")\n",
    "else:\n",
    "\tprint(\"Invalid Password\")\n"
   ]
  },
  {
   "cell_type": "markdown",
   "id": "2a6a30cd-c4c6-46ba-b623-56d3f05a51a7",
   "metadata": {},
   "source": [
    "***\n",
    "#### Q2. Solve the below-given questions using at least one of the following:\n",
    "1. Lambda function\n",
    "2. Filter function\n",
    "3. Map function\n",
    "4. List Comprehension\n",
    "\n",
    "* Check if the string starts with a particular letter.\n",
    "* Check if the string is numeric\n",
    "* Sort a list of tuples having fruit names and their quantity. [(\"mango\",99),(\"orange\",80), (\"grapes\", 1000)]\n",
    "* Find the squares of numbers from 1 to 10\n",
    "* Find the cube root of numbers from 1 to 10\n",
    "* Check if a given number is even\n",
    "* Filter odd numbers from the given list.\n",
    "[1,2,3,4,5,6,7,8,9,10]\n",
    "* Sort a list of integers into positive and negative integers lists.\n",
    "[1,2,3,4,5,6,-1,-2,-3,-4,-5,0]"
   ]
  },
  {
   "cell_type": "code",
   "execution_count": 7,
   "id": "7597117c-9729-4236-aef9-300fd232af24",
   "metadata": {},
   "outputs": [
    {
     "name": "stdout",
     "output_type": "stream",
     "text": [
      "True\n"
     ]
    }
   ],
   "source": [
    "## Check if the string starts with a particular letter.\n",
    "\n",
    "str1 = \"Hi, My name is Lakhan\"\n",
    "\n",
    "x = str1.startswith(\"H\")\n",
    "print(x)"
   ]
  },
  {
   "cell_type": "code",
   "execution_count": 16,
   "id": "a90c5723-de45-487f-acd7-949258408ed6",
   "metadata": {},
   "outputs": [
    {
     "name": "stdin",
     "output_type": "stream",
     "text": [
      "Enter a number 5\n"
     ]
    },
    {
     "name": "stdout",
     "output_type": "stream",
     "text": [
      "True\n"
     ]
    }
   ],
   "source": [
    "## Check if the string is numeric using lambda function\n",
    "\n",
    "is_num = lambda q: q.replace('.','',1).isdigit()\n",
    "print(is_num(input(\"Enter a number\")))\n"
   ]
  },
  {
   "cell_type": "code",
   "execution_count": 18,
   "id": "20ff9d7f-8a8d-463e-97c5-6eb86aba4e1a",
   "metadata": {},
   "outputs": [
    {
     "name": "stdout",
     "output_type": "stream",
     "text": [
      "[('orange', 80), ('mango', 99), ('grapes', 1000)]\n"
     ]
    }
   ],
   "source": [
    "## Sort a list of tuples having fruit names and their quantity. [(\"mango\",99),(\"orange\",80), (\"grapes\", 1000)\n",
    "\n",
    "def Sort_Tuple(tup):\n",
    "    \n",
    "\ttup.sort(key = lambda x: x[1])\n",
    "\treturn tup\n",
    "\n",
    "tup = [(\"mango\",99),(\"orange\",80), (\"grapes\", 1000)]\n",
    "print(Sort_Tuple(tup))\n"
   ]
  },
  {
   "cell_type": "code",
   "execution_count": 19,
   "id": "b9c33ebe-88db-4f74-b8c4-94654f3c5e95",
   "metadata": {},
   "outputs": [
    {
     "data": {
      "text/plain": [
       "[1, 4, 9, 16, 25, 36, 49, 64, 81, 100]"
      ]
     },
     "execution_count": 19,
     "metadata": {},
     "output_type": "execute_result"
    }
   ],
   "source": [
    "## Find the squares of numbers from 1 to 10\n",
    "\n",
    "l = [1,2,3,4,5,6,7,8,9,10]\n",
    "\n",
    "list(map(lambda x : x**2 , l))"
   ]
  },
  {
   "cell_type": "code",
   "execution_count": 24,
   "id": "cc8f7be0-7a25-4c97-bb96-3aca82e57f6b",
   "metadata": {},
   "outputs": [
    {
     "name": "stdout",
     "output_type": "stream",
     "text": [
      "[1.0, 1.2599210498948732, 1.4422495703074083, 1.5874010519681994, 1.7099759466766968, 1.8171205928321397, 1.912931182772389, 2.0, 2.080083823051904, 2.154434690031884]\n"
     ]
    }
   ],
   "source": [
    "## Find the cube root of numbers from 1 to 10\n",
    "\n",
    "l = [1,2,3,4,5,6,7,8,9,10]\n",
    "\n",
    "lst1 = list(map(lambda x : x**(1/3) , l))\n",
    "\n",
    "print(lst1)"
   ]
  },
  {
   "cell_type": "code",
   "execution_count": 25,
   "id": "a8b86690-ee69-4fbe-8510-99c81b1c9bff",
   "metadata": {},
   "outputs": [
    {
     "name": "stdout",
     "output_type": "stream",
     "text": [
      "[False, True, False, True, False, True, False, True, False, True]\n"
     ]
    }
   ],
   "source": [
    "## Check if a given number is even.\n",
    "\n",
    "l = [1,2,3,4,5,6,7,8,9,10]\n",
    "\n",
    "lst1 = list(map(lambda x : x%2==0 , l))\n",
    "\n",
    "print(lst1)"
   ]
  },
  {
   "cell_type": "code",
   "execution_count": 27,
   "id": "edba2e98-b55f-4eab-885c-c953a1ce4688",
   "metadata": {},
   "outputs": [
    {
     "name": "stdout",
     "output_type": "stream",
     "text": [
      "[1, 3, 5, 7, 9]\n"
     ]
    }
   ],
   "source": [
    "## Filter odd numbers from the given list. [1,2,3,4,5,6,7,8,9,10]\n",
    "\n",
    "l = [1,2,3,4,5,6,7,8,9,10]\n",
    "\n",
    "lst1 = list(filter(lambda x : x%2 !=0 , l))\n",
    "\n",
    "print(lst1)"
   ]
  },
  {
   "cell_type": "code",
   "execution_count": 29,
   "id": "72a4b3c1-cab1-4b8e-94fa-44cde95f5528",
   "metadata": {},
   "outputs": [
    {
     "name": "stdout",
     "output_type": "stream",
     "text": [
      "[-1, -2, -3, -4, -5]\n"
     ]
    }
   ],
   "source": [
    "## Sort a list of integers into positive and negative integers lists. [1,2,3,4,5,6,-1,-2,-3,-4,-5,0]\n",
    "\n",
    "# Negative numbers\n",
    "\n",
    "l = [1,2,3,4,5,6,-1,-2,-3,-4,-5,0]\n",
    "\n",
    "lst1 = list(filter(lambda x : x<0 , l))\n",
    "\n",
    "print(lst1)"
   ]
  },
  {
   "cell_type": "code",
   "execution_count": 30,
   "id": "e45a7322-a846-4efe-8c09-a881c9139f62",
   "metadata": {},
   "outputs": [
    {
     "name": "stdout",
     "output_type": "stream",
     "text": [
      "[1, 2, 3, 4, 5, 6]\n"
     ]
    }
   ],
   "source": [
    "# Positive numbers\n",
    "\n",
    "l = [1,2,3,4,5,6,-1,-2,-3,-4,-5,0]\n",
    "\n",
    "lst1 = list(filter(lambda x : x>0 , l))\n",
    "\n",
    "print(lst1)"
   ]
  },
  {
   "cell_type": "code",
   "execution_count": null,
   "id": "267f8bd8-0f90-45b5-8354-bd7cd74ea2b9",
   "metadata": {},
   "outputs": [],
   "source": []
  }
 ],
 "metadata": {
  "kernelspec": {
   "display_name": "Python 3 (ipykernel)",
   "language": "python",
   "name": "python3"
  },
  "language_info": {
   "codemirror_mode": {
    "name": "ipython",
    "version": 3
   },
   "file_extension": ".py",
   "mimetype": "text/x-python",
   "name": "python",
   "nbconvert_exporter": "python",
   "pygments_lexer": "ipython3",
   "version": "3.10.8"
  }
 },
 "nbformat": 4,
 "nbformat_minor": 5
}
