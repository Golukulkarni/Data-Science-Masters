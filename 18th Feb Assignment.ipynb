{
 "cells": [
  {
   "cell_type": "markdown",
   "id": "4e928881-4615-4126-be8d-0e2749aa197b",
   "metadata": {},
   "source": [
    "#### Q1. What is an API? Give an example, where an API is used in real life.\n"
   ]
  },
  {
   "cell_type": "markdown",
   "id": "7e0e4975-4760-4791-b479-c5239887fb6d",
   "metadata": {},
   "source": [
    "* **API** stands for **Application Programming Interface**, and it’s based on a set of definitions and protocols with the aim of integrating systems and facilitating communication between software applications using a series of rules.\n",
    "* An API or Application Programming Interface is a set of functions and procedures that allow systems to integrate, so its functionalities can be reused by other apps or programs.\n",
    "* An API serves to exchange data between different types of software and so automate procedures and develop new features.\n",
    "\n",
    "#### API EXAMPLES\n",
    "\n",
    "1. **Google Maps**: Thanks to standards applied by Google, most websites can use Google Maps APIs to integrate their maps.\n",
    "2. **Weather API**: A geolocation and meteorological information service with many different APIs that range from weather forecasting to time zones to astronomical information and much more."
   ]
  },
  {
   "cell_type": "markdown",
   "id": "28bf93a1-7a45-439a-8e44-2df4706a0139",
   "metadata": {},
   "source": [
    "***\n",
    "#### Q2. Give advantages and disadvantages of using API.\n"
   ]
  },
  {
   "cell_type": "markdown",
   "id": "b1c53dea-dbcd-4a67-8e51-08942cb70347",
   "metadata": {},
   "source": [
    "### Adavantages of API :\n",
    "* **Applications**: Access to APIs ensures more flexibility in information-transfer processes.\n",
    "* **Reach**: APIs let you create layers in apps in order to distribute information to different audiences.\n",
    "* **Customization**: Furthermore, it can serve as a solution to create different experiences for users, letting protocols, functions, and commands be adapted according to specific demands.\n",
    "* **Efficiency**: When you have content that is automatically published and made available on different channels simultaneously, APIs allow for more efficient data distribution.\n",
    "* **Adaptability**: One of the greatest benefits of APIs is the ability it has to adapt to changes through data migration and flexibility of services.\n",
    "\n",
    "There is a lot of conveniences and advantages to APIs, but business leaders should also be aware of the disadvantages. As a single point of entry, an API is a gateway and can become a hacker's primary target. Once the API is compromised, all other applications and systems become vulnerable.\n",
    "\n",
    "### Disadvantages of API :\n",
    "\n",
    "* Creating API is a very time-consuming process\n",
    "* A fixed scale is necessary\n",
    "* Imprecise boundary delineation\n",
    "* To create API, programming knowledge is necessary\n",
    "* Maintenance cost is very high\n",
    "* It can crash when testing API"
   ]
  },
  {
   "cell_type": "markdown",
   "id": "689bbc76-b082-42b8-9dc5-4da1bc0a33ad",
   "metadata": {},
   "source": [
    "***\n",
    "#### Q3. What is a Web API? Differentiate between API and Web API.\n"
   ]
  },
  {
   "cell_type": "markdown",
   "id": "b8de0399-b7f9-4d0f-ba77-106849074d0d",
   "metadata": {},
   "source": [
    "* Web API as the name suggests, is an API over the web which can be accessed using HTTP protocol. \n",
    "* It is a concept and not a technology. We can build Web API using different technologies such as Java, .NET etc. \n",
    "* For example, Twitter's REST APIs provide programmatic access to read and write data using which we can integrate twitter's capabilities into our own application.\n",
    "\n",
    "\n",
    "\n"
   ]
  },
  {
   "cell_type": "markdown",
   "id": "ba3fde9e-4daa-4031-945b-fb4b348623c4",
   "metadata": {},
   "source": [
    "***\n",
    "#### Q4. Explain REST and SOAP Architecture. Mention shortcomings of SOAP.\n"
   ]
  },
  {
   "cell_type": "markdown",
   "id": "b7cda78f-644b-408f-8c96-e775f7fb4a99",
   "metadata": {},
   "source": [
    "### SOAP:\n",
    "\n",
    "* SOAP (Simple Object Access protocol) is an XML-based protocol for accessing web services over HTTP it is developed as an intermediate language so that applications built in various programming languages can communicate with each other effectively. \n",
    "* Web services use SOP for exchange of XML data difference between applications.\n",
    "* SOAP supports both stateful and stateless operations.\n",
    "* Stateful means that the server keeps the information that it receives from the client across multiple requests. These requests are chained together so that server is aware about the previous requests.\n",
    "* Examples are blank transactions flight bookings etcetera stateless messagings has enough information about the state of client so that server does not have to bother.\n",
    "\n",
    "### REST:\n",
    "\n",
    "* REST (Representational State transfer) is an architectural approach for communication purposes often used in various web services development. \n",
    "* It is stateless client dash server model. \n",
    "* Web services that are defined on the concept REST RESTful web services. When a client makes a request via a restful API, it transfers the representation of the state of the resources to the server.\n",
    "* This information can be transferred in various formats via HTTP like Jason HTML XSLT and plain text but Jason is the most common language used to due to its easy readability buy machines and humans.\n",
    "\n",
    "\n",
    "#### Shortcomings of SOAP : \n",
    "\n",
    "* SOAP can only transfer messages as XML files your SOAP API will be less performant as XML is a verbose format compare to JSON. API calls made to your server will need more bandwidth and it will take more time to process the request and transfer the response back to the client.\n",
    "* In SOAP, the client-server commiunication depends on WSDL (Web Service Description Language) contracts which implies tight coupling. Therefore its not recommended for loosely coupled  applications as you cant opt out of using the contract between the client and server.\n",
    "* SOAP also has a higher learning curve, is harder to code and it can't be tested in the web browser(as opposed to REST) with SOAP you need to generate the contracts in WSDL,create client stubs, follow strict specifications and more This also means that as a programmer you will also have less freedom of choice."
   ]
  },
  {
   "cell_type": "markdown",
   "id": "8ea86169-d870-47ed-a7b9-d3f9a7702543",
   "metadata": {},
   "source": [
    "***\n",
    "#### Q5. Differentiate between REST and SOAP."
   ]
  },
  {
   "cell_type": "markdown",
   "id": "7c858b2b-0b36-4ad3-b51e-b4df733227fd",
   "metadata": {},
   "source": [
    "### REST\n",
    "1. Use HTTP & TLS encryption.\n",
    "2. Use JSON format for transferring data.\n",
    "3. Don't Store or repackage data.\n",
    "4. Faster than SOAP API's\n",
    "\n",
    "### SOAP\n",
    "1. Use built-in protocols, WS Security\n",
    "2. Supports OASIS and W3C Standards\n",
    "3. Use a combo of XML encryption, XML signatures, and SAML tokens for authentication and authorization.\n",
    "4. Better for handling sensitive data."
   ]
  },
  {
   "cell_type": "markdown",
   "id": "ba0cf2e3-76d7-4ea7-abbb-52c936df9afa",
   "metadata": {},
   "source": [
    "***"
   ]
  }
 ],
 "metadata": {
  "kernelspec": {
   "display_name": "Python 3 (ipykernel)",
   "language": "python",
   "name": "python3"
  },
  "language_info": {
   "codemirror_mode": {
    "name": "ipython",
    "version": 3
   },
   "file_extension": ".py",
   "mimetype": "text/x-python",
   "name": "python",
   "nbconvert_exporter": "python",
   "pygments_lexer": "ipython3",
   "version": "3.10.8"
  }
 },
 "nbformat": 4,
 "nbformat_minor": 5
}
