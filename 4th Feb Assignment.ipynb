{
 "cells": [
  {
   "cell_type": "markdown",
   "id": "3543323c-4f32-494c-9550-1503e3b98701",
   "metadata": {},
   "source": [
    "#### Q1. Create a python program to sort the given list of tuples based on integer value using a lambda function.\n",
    " [('Sachin Tendulkar', 34357), ('Ricky Ponting', 27483), ('Jack Kallis', 25534), ('Virat Kohli', 24936)]"
   ]
  },
  {
   "cell_type": "code",
   "execution_count": 10,
   "id": "1b401813-8120-446a-9fb3-69d947bbedb7",
   "metadata": {},
   "outputs": [
    {
     "name": "stdout",
     "output_type": "stream",
     "text": [
      "Original list of tuples:\n",
      "[('Sachin Tendulkar', 34357), ('Ricky Ponting', 27483), ('Jack Kallis', 25534), ('Virat Kohli', 24936)]\n",
      "\n",
      "Sorting the List of Tuples:\n",
      "[('Virat Kohli', 24936), ('Jack Kallis', 25534), ('Ricky Ponting', 27483), ('Sachin Tendulkar', 34357)]\n"
     ]
    }
   ],
   "source": [
    "# sorting list of tuples :\n",
    "\n",
    "lst =[('Sachin Tendulkar', 34357), ('Ricky Ponting', 27483), ('Jack Kallis', 25534), ('Virat Kohli', 24936)]\n",
    "print(\"Original list of tuples:\")\n",
    "print(lst)\n",
    "lst.sort(key = lambda x: x[1])\n",
    "print(\"\\nSorting the List of Tuples:\")\n",
    "print(lst)"
   ]
  },
  {
   "cell_type": "markdown",
   "id": "fc2c421a-bdaf-4efc-8df7-603ad1896762",
   "metadata": {},
   "source": [
    "***\n",
    "#### Q2. Write a Python Program to find the squares of all the numbers in the given list of integers using lambda and map functions.\n",
    "[1, 2, 3, 4, 5, 6, 7, 8, 9, 10]"
   ]
  },
  {
   "cell_type": "code",
   "execution_count": 12,
   "id": "d7f48f70-10d2-47b1-a243-2ee6a2f27c8e",
   "metadata": {},
   "outputs": [
    {
     "data": {
      "text/plain": [
       "[1, 4, 9, 16, 25, 36, 49, 64, 81, 100]"
      ]
     },
     "execution_count": 12,
     "metadata": {},
     "output_type": "execute_result"
    }
   ],
   "source": [
    "l = [1,2,3,4,5,6,7,8,9,10]\n",
    "\n",
    "list(map(lambda x : x**2 , l))"
   ]
  },
  {
   "cell_type": "markdown",
   "id": "1eaa057a-a806-42f9-9878-4484aaade906",
   "metadata": {},
   "source": [
    "***\n",
    "#### Q3. Write a python program to convert the given list of integers into a tuple of strings. Use map and lambda functions \n",
    "* Given String: [1, 2, 3, 4, 5, 6, 7, 8, 9, 10]\n",
    "* Expected output: ('1', '2', '3', '4', '5', '6', '7', '8', '9', '10')"
   ]
  },
  {
   "cell_type": "code",
   "execution_count": 15,
   "id": "5bd2d4f4-61fb-4e4b-a6da-fe3b0e5312f1",
   "metadata": {},
   "outputs": [
    {
     "data": {
      "text/plain": [
       "['1', '2', '3', '4', '5', '6', '7', '8', '9', '10']"
      ]
     },
     "execution_count": 15,
     "metadata": {},
     "output_type": "execute_result"
    }
   ],
   "source": [
    "given_string = [1,2,3,4,5,6,7,8,9,10]\n",
    "\n",
    "list(map(lambda x : str(x) , given_string))\n"
   ]
  },
  {
   "cell_type": "markdown",
   "id": "08c5280b-ef2d-4fef-8f8d-cf804bda4243",
   "metadata": {},
   "source": [
    "***\n",
    "#### Q4. Write a python program using reduce function to compute the product of a list containing numbers from 1 to 25."
   ]
  },
  {
   "cell_type": "code",
   "execution_count": 16,
   "id": "b56420b2-7a53-4c02-a752-8475f1b49368",
   "metadata": {},
   "outputs": [],
   "source": [
    "from functools import reduce"
   ]
  },
  {
   "cell_type": "code",
   "execution_count": 17,
   "id": "efa71d76-ef6c-4efe-ab1d-ccaf6463a21b",
   "metadata": {},
   "outputs": [
    {
     "data": {
      "text/plain": [
       "15511210043330985984000000"
      ]
     },
     "execution_count": 17,
     "metadata": {},
     "output_type": "execute_result"
    }
   ],
   "source": [
    "l = [1,2,3,4,5,6,7,8,9,10,11,12,13,14,15,16,17,18,19,20,21,22,23,24,25]\n",
    "\n",
    "reduce(lambda x, y : x*y ,l)"
   ]
  },
  {
   "cell_type": "markdown",
   "id": "3a565b5b-27dd-4835-bfcf-df4a4007700b",
   "metadata": {},
   "source": [
    "***\n",
    "#### Q5. Write a python program to filter the numbers in a given list that are divisible by 2 and 3 using the filter function.\n",
    "[2, 3, 6, 9, 27, 60, 90, 120, 55, 46]"
   ]
  },
  {
   "cell_type": "code",
   "execution_count": 23,
   "id": "2fb9b1f4-35cc-487f-b4cc-a5111998b505",
   "metadata": {},
   "outputs": [
    {
     "data": {
      "text/plain": [
       "[2, 6, 60, 90, 120, 46]"
      ]
     },
     "execution_count": 23,
     "metadata": {},
     "output_type": "execute_result"
    }
   ],
   "source": [
    "# Numbers divisible by 2\n",
    "\n",
    "lst1 = [2, 3, 6, 9, 27, 60, 90, 120, 55, 46]\n",
    "\n",
    "list(filter(lambda x : x%2==0, lst1))\n"
   ]
  },
  {
   "cell_type": "code",
   "execution_count": 22,
   "id": "97b9f591-c14e-4142-bd86-37ddeb3433f4",
   "metadata": {},
   "outputs": [
    {
     "data": {
      "text/plain": [
       "[3, 6, 9, 27, 60, 90, 120]"
      ]
     },
     "execution_count": 22,
     "metadata": {},
     "output_type": "execute_result"
    }
   ],
   "source": [
    "# Numbers divisible by 3\n",
    "\n",
    "lst1 = [2, 3, 6, 9, 27, 60, 90, 120, 55, 46]\n",
    "\n",
    "list(filter(lambda x : x%3==0, lst1))\n"
   ]
  },
  {
   "cell_type": "markdown",
   "id": "e2d90d77-b86f-494f-b908-1e3f230f5694",
   "metadata": {},
   "source": [
    "***\n",
    "#### Q6. Write a python program to find palindromes in the given list of strings using lambda and filter function.\n",
    "['python', 'php', 'aba', 'radar', 'level']"
   ]
  },
  {
   "cell_type": "code",
   "execution_count": 24,
   "id": "6cc30fb0-0547-4244-b4d8-dc7368f422bd",
   "metadata": {},
   "outputs": [
    {
     "name": "stdout",
     "output_type": "stream",
     "text": [
      "Orginal list of strings:\n",
      "['python', 'php', 'aba', 'radar', 'level']\n",
      "\n",
      "List of palindromes:\n",
      "['php', 'aba', 'radar', 'level']\n"
     ]
    }
   ],
   "source": [
    "lst2 = ['python', 'php', 'aba', 'radar', 'level']\n",
    "print(\"Orginal list of strings:\")\n",
    "print(lst2) \n",
    "result = list(filter(lambda x: (x == \"\".join(reversed(x))), lst2)) \n",
    "print(\"\\nList of palindromes:\")\n",
    "print(result) "
   ]
  },
  {
   "cell_type": "markdown",
   "id": "6fc5239f-6046-40ec-987f-a750aa6449e9",
   "metadata": {},
   "source": [
    "***"
   ]
  }
 ],
 "metadata": {
  "kernelspec": {
   "display_name": "Python 3 (ipykernel)",
   "language": "python",
   "name": "python3"
  },
  "language_info": {
   "codemirror_mode": {
    "name": "ipython",
    "version": 3
   },
   "file_extension": ".py",
   "mimetype": "text/x-python",
   "name": "python",
   "nbconvert_exporter": "python",
   "pygments_lexer": "ipython3",
   "version": "3.10.8"
  }
 },
 "nbformat": 4,
 "nbformat_minor": 5
}
