{
 "cells": [
  {
   "cell_type": "markdown",
   "id": "d86237f7-fb37-4e09-bd3b-306a6654cee1",
   "metadata": {},
   "source": [
    "#### Q.1 Create a vehicle class with an init method having instance variables as name_of_vehicle, max_speed and average_of_vehicle."
   ]
  },
  {
   "cell_type": "code",
   "execution_count": 2,
   "id": "05801a80-1050-4744-8698-0f633174ce2b",
   "metadata": {},
   "outputs": [
    {
     "data": {
      "text/plain": [
       "300"
      ]
     },
     "execution_count": 2,
     "metadata": {},
     "output_type": "execute_result"
    }
   ],
   "source": [
    "class Vehicle :\n",
    "    def __init__(self, name_of_vehicle, max_speed, average_of_vehicle):\n",
    "        self.name_of_vehicle = name_of_vehicle\n",
    "        self.max_speed = max_speed\n",
    "        self.average_of_vehicle = average_of_vehicle\n",
    "        \n",
    "Toyota = Vehicle(\"Innova\", 300, 10)\n",
    "\n",
    "Toyota.max_speed"
   ]
  },
  {
   "cell_type": "markdown",
   "id": "b4f7ce5e-060b-4d41-8d87-119b895e371d",
   "metadata": {},
   "source": [
    "***\n",
    "#### Q2. Create a child class car from the vehicle class created in Que 1, which will inherit the vehicle class. Create a method named seating_capacity which takes capacity as an argument and returns the name of the vehicle and its seating capacity."
   ]
  },
  {
   "cell_type": "code",
   "execution_count": 28,
   "id": "1496ab9c-ea16-4bdd-977d-03d9501993f8",
   "metadata": {},
   "outputs": [],
   "source": [
    "class Vehicle :\n",
    "    def __init__(self, name_of_vehicle, max_speed, average_of_vehicle, seating_capacity):\n",
    "        self.name_of_vehicle = name_of_vehicle\n",
    "        self.max_speed = max_speed\n",
    "        self.average_of_vehicle = average_of_vehicle\n",
    "        self.seating_capacity = seating_capacity"
   ]
  },
  {
   "cell_type": "code",
   "execution_count": 29,
   "id": "ababe220-8386-4943-8ab7-6a630555639d",
   "metadata": {},
   "outputs": [],
   "source": [
    "class Car(Vehicle):\n",
    "    pass"
   ]
  },
  {
   "cell_type": "code",
   "execution_count": 33,
   "id": "3831e141-4bb8-40e6-ae94-b5af075a02dd",
   "metadata": {},
   "outputs": [],
   "source": [
    "Toyota = Car(\"Innova\", 180, 10,5)"
   ]
  },
  {
   "cell_type": "code",
   "execution_count": 34,
   "id": "76902ab7-c58b-4ba2-b7e1-a087c8ccf705",
   "metadata": {},
   "outputs": [
    {
     "name": "stdout",
     "output_type": "stream",
     "text": [
      "Innova\n",
      "5\n"
     ]
    }
   ],
   "source": [
    "print(Toyota.name_of_vehicle)\n",
    "print(Toyota.seating_capacity)\n"
   ]
  },
  {
   "cell_type": "markdown",
   "id": "31758a92-b71b-405b-a3c6-4edbee9da509",
   "metadata": {},
   "source": [
    "***\n",
    "#### Q3. What is multiple inheritance? Write a python code to demonstrate multiple inheritance."
   ]
  },
  {
   "cell_type": "markdown",
   "id": "1ac21c73-86e4-41c4-ad8b-90fef1bc5226",
   "metadata": {},
   "source": [
    "When a class is derived from more than one base class it is called multiple Inheritance. The derived class inherits all the features of the base case.\n",
    "* Syntax:\n",
    "\n",
    "Class Base1:\n",
    "\n",
    "       Body of the class\n",
    "\n",
    " Class Base2:\n",
    " \n",
    "     Body of the class\n",
    "\n",
    " Class Derived(Base1, Base2):\n",
    " \n",
    "     Body of the class\n",
    "     "
   ]
  },
  {
   "cell_type": "code",
   "execution_count": 41,
   "id": "d2dddca2-e265-48f1-81eb-b793b69b2f7d",
   "metadata": {},
   "outputs": [
    {
     "name": "stdout",
     "output_type": "stream",
     "text": [
      "This is my Class3\n"
     ]
    }
   ],
   "source": [
    "# Python Program to depict multiple inheritance\n",
    "\n",
    "class Class1:\n",
    "\tdef m(self):\n",
    "\t\tprint(\"This is my Class1\")\n",
    "\t\n",
    "class Class2(Class1):\n",
    "\tdef m(self):\n",
    "\t\tprint(\"This is my Class2\")\n",
    "\n",
    "class Class3(Class2):\n",
    "\tdef m(self):\n",
    "\t\tprint(\"This is my Class3\")\n",
    "\t\t\n",
    "class Class4(Class3):\n",
    "\tpass\n",
    "\t\n",
    "obj_class = Class4()\n",
    "obj_class.m()\n"
   ]
  },
  {
   "cell_type": "markdown",
   "id": "f9121888-b5e8-471f-a7b5-86192418c60c",
   "metadata": {},
   "source": [
    "*** \n",
    "#### Q4. What are getter and setter in python? Create a class and create a getter and a setter method in this class."
   ]
  },
  {
   "cell_type": "markdown",
   "id": "51ae80c1-e3b7-420a-ba5b-832d596248fa",
   "metadata": {},
   "source": [
    "* **Getter** is a method that allows you to access an attribute in a given class\n",
    "* **Setter** is a method that allows you to set or mutate the value of an attribute in a class"
   ]
  },
  {
   "cell_type": "code",
   "execution_count": 43,
   "id": "a529bb40-9494-416c-8729-e1614b77d55c",
   "metadata": {},
   "outputs": [
    {
     "name": "stdout",
     "output_type": "stream",
     "text": [
      "29\n"
     ]
    }
   ],
   "source": [
    "# Python program showing a use of get() and set() method in\n",
    "\n",
    "class my_age:\n",
    "\tdef __init__(self, age = 0):\n",
    "\t\tself._age = age\n",
    "\t\n",
    "\t# getter method\n",
    "\tdef get_age(self):\n",
    "\t\treturn self._age\n",
    "\t\n",
    "\t# setter method\n",
    "\tdef set_age(self, x):\n",
    "\t\tself._age = x\n",
    "\n",
    "golu = my_age()\n",
    "golu.set_age(29)\n",
    "print(golu.get_age())\n"
   ]
  },
  {
   "cell_type": "markdown",
   "id": "4b508552-4d79-4893-af74-56b051c61f8a",
   "metadata": {},
   "source": [
    "*** \n",
    "#### Q5.What is method overriding in python? Write a python code to demonstrate method overriding."
   ]
  },
  {
   "cell_type": "markdown",
   "id": "dbdcf149-d153-4135-a574-e18537e2a0e6",
   "metadata": {},
   "source": [
    "Method overriding is an ability of any object-oriented programming language that allows a subclass or child class to provide a specific implementation of a method that is already provided by one of its super-classes or parent classes. When a method in a subclass has the same name, same parameters or signature and same return type(or sub-type) as a method in its super-class, then the method in the subclass is said to override the method in the super-class."
   ]
  },
  {
   "cell_type": "code",
   "execution_count": 46,
   "id": "88ac57e6-5d09-4d46-a7d2-51db45c9aa0c",
   "metadata": {},
   "outputs": [
    {
     "name": "stdout",
     "output_type": "stream",
     "text": [
      "I am Parent\n",
      "I am Child\n"
     ]
    }
   ],
   "source": [
    "# Python program to demonstrate method overriding\n",
    "class Parent():\n",
    "\tdef __init__(self):\n",
    "\t\tself.value = \"I am Parent\"\n",
    "\tdef show(self):\n",
    "\t\tprint(self.value)\n",
    "        \n",
    "class Child(Parent):\n",
    "\tdef __init__(self):\n",
    "\t\tself.value = \"I am Child\"\n",
    "\tdef show(self):\n",
    "\t\tprint(self.value)\n",
    "        \n",
    "obj1 = Parent()\n",
    "obj2 = Child()\n",
    "\n",
    "obj1.show()\n",
    "obj2.show()\n"
   ]
  },
  {
   "cell_type": "markdown",
   "id": "7f9156d1-c80b-4d5b-956e-8f72be76b10b",
   "metadata": {},
   "source": [
    "***"
   ]
  }
 ],
 "metadata": {
  "kernelspec": {
   "display_name": "Python 3 (ipykernel)",
   "language": "python",
   "name": "python3"
  },
  "language_info": {
   "codemirror_mode": {
    "name": "ipython",
    "version": 3
   },
   "file_extension": ".py",
   "mimetype": "text/x-python",
   "name": "python",
   "nbconvert_exporter": "python",
   "pygments_lexer": "ipython3",
   "version": "3.10.8"
  }
 },
 "nbformat": 4,
 "nbformat_minor": 5
}
